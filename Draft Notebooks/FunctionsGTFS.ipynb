{
 "cells": [
  {
   "cell_type": "code",
   "execution_count": null,
   "metadata": {},
   "outputs": [],
   "source": [
    "def CheckRange(Start,End,date):\n",
    "    return int(date) in range(int(Start),int(End))\n",
    "\n",
    "def FromDayToService(date):\n",
    "    #date est un tuple ('20210907','tuesday')\n",
    "    ListServiceId=[]\n",
    "\n",
    "    for i in range(len(calendardf)):\n",
    "\n",
    "        startdate,endate=calendardf.iloc[i,[8,9]]\n",
    "        \n",
    "        if CheckRange(startdate,endate+1,date[0]):\n",
    "\n",
    "            if calendardf.loc[i,date[1]]==1:\n",
    "                \n",
    "                ListServiceId.append(str(calendardf.iloc[i,0]))\n",
    "\n",
    "    return ListServiceId\n",
    "\n",
    "def FromLineIdtoRouteId(LineId):\n",
    "    routeId = routes[routes['route_short_name']==LineId]['route_id'].iloc[0]\n",
    "    return routeId\n",
    "\n",
    "def SelectInGTFS(day,lineId,stopid):\n",
    "    ListOfService = FromDayToService(day)\n",
    "    RouteId = FromLineIdtoRouteId(lineId)\n",
    "    Comparaisondf = stop_times[(stop_times['stop_id']==stopid)&(stop_times['route_id']==RouteId)&(stop_times['service_id'].isin(ListOfService))].sort_values('arrival_time')\n",
    "    Comparaisondf=Comparaisondf[['trip_id','arrival_time','stop_id','route_id','service_id']]\n",
    "    ArrivalTime = Comparaisondf['arrival_time'].values\n",
    "    IntervalTime = list(ArrivalTime[1:]-ArrivalTime[:-1])\n",
    "    IntervalTime.insert(0,ArrivalTime[0])\n",
    "    Comparaisondf['Interval']= IntervalTime\n",
    "    Comparaisondf['Ponctuality']=np.array(IntervalTime)>720\n",
    "    return Comparaisondf\n",
    "\n",
    "def ScheduledTime(lineId,stopId,date):\n",
    "    ListOfService = FromDayToService(date)\n",
    "    RouteId = FromLineIdtoRouteId(lineId)\n",
    "    Comparaisondf = stop_times[(stop_times['stop_id']==stopId)&(stop_times['route_id']==RouteId)&(stop_times['service_id'].isin(ListOfService))].sort_values('arrival_time')\n",
    "    ArrivalTime = Comparaisondf['arrival_time'].values\n",
    "    IntervalTime = list(ArrivalTime[1:]-ArrivalTime[:-1])\n",
    "    IntervalTime.insert(0,ArrivalTime[0])\n",
    "    Punctuality = np.array(IntervalTime)>720 \n",
    "    IntervalTime = list(zip(IntervalTime,Punctuality))\n",
    "\n",
    "    return IntervalTime\n",
    "\n"
   ]
  },
  {
   "cell_type": "code",
   "execution_count": null,
   "metadata": {},
   "outputs": [],
   "source": [
    "Date=('20210907','tuesday')\n",
    "lineid = '4'\n",
    "stopid = '5026'\n",
    "\n",
    "\n",
    "test = SelectInGTFS(Date,lineid,stopid)\n",
    "test.head(30)\n"
   ]
  }
 ],
 "metadata": {
  "kernelspec": {
   "display_name": "Python 3",
   "language": "python",
   "name": "python3"
  },
  "language_info": {
   "name": "python",
   "version": "3.11.0 (main, Oct 24 2022, 18:26:48) [MSC v.1933 64 bit (AMD64)]"
  },
  "orig_nbformat": 4,
  "vscode": {
   "interpreter": {
    "hash": "2831ff8f1c75c63b07e23ce4a1fc805156e61345f51912192adae940ab91bb6a"
   }
  }
 },
 "nbformat": 4,
 "nbformat_minor": 2
}
